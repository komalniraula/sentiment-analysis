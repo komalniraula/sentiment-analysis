{
 "cells": [
  {
   "cell_type": "code",
   "execution_count": 1,
   "id": "052045c3",
   "metadata": {},
   "outputs": [],
   "source": [
    "from google_play_scraper import app\n",
    "from google_play_scraper import Sort, reviews_all\n",
    "import pandas as pd\n",
    "import numpy as np"
   ]
  },
  {
   "cell_type": "code",
   "execution_count": 2,
   "id": "b0be47d2",
   "metadata": {},
   "outputs": [],
   "source": [
    "# List of apps\n",
    "app_ids=['com.mysecondteacher.nepal', 'com.neemacademy.app', 'school.mero.lms', 'com.midas.eclassnew']"
   ]
  },
  {
   "cell_type": "code",
   "execution_count": 3,
   "id": "01bb8deb",
   "metadata": {},
   "outputs": [],
   "source": [
    "# Function to collect data from the google playstore\n",
    "def collect_data(name):\n",
    "    reviews = reviews_all(\n",
    "    name,\n",
    "    sleep_milliseconds=0, # defaults to 0\n",
    "    lang='en', # defaults to 'en'\n",
    "    country='us', # defaults to 'us'\n",
    "    sort=Sort.NEWEST, # defaults to Sort.MOST_RELEVANT\n",
    "    )\n",
    "    \n",
    "    return reviews"
   ]
  },
  {
   "cell_type": "code",
   "execution_count": 4,
   "id": "661b471b",
   "metadata": {},
   "outputs": [],
   "source": [
    "# Filename to save the data\n",
    "def save_name(name):\n",
    "    p = name.split('.')\n",
    "    h = p[1]+'.csv'\n",
    "    return h"
   ]
  },
  {
   "cell_type": "code",
   "execution_count": 11,
   "id": "d346a79f",
   "metadata": {},
   "outputs": [],
   "source": [
    "# Collecting and saving the data\n",
    "def save_data(name):\n",
    "    reviews = collect_data(name)\n",
    "    df = pd.DataFrame(np.array(reviews),columns=['review'])\n",
    "    df = df.join(pd.DataFrame(df.pop('review').tolist()))\n",
    "    name = save_name(name)\n",
    "    df.to_csv(name, index=False)"
   ]
  },
  {
   "cell_type": "code",
   "execution_count": 12,
   "id": "b92a8d62",
   "metadata": {},
   "outputs": [],
   "source": [
    "# Collecting info on each app\n",
    "for k in app_ids:\n",
    "    save_data(k)"
   ]
  },
  {
   "cell_type": "code",
   "execution_count": null,
   "id": "648d2dfa",
   "metadata": {},
   "outputs": [],
   "source": []
  }
 ],
 "metadata": {
  "kernelspec": {
   "display_name": "Python 3 (ipykernel)",
   "language": "python",
   "name": "python3"
  },
  "language_info": {
   "codemirror_mode": {
    "name": "ipython",
    "version": 3
   },
   "file_extension": ".py",
   "mimetype": "text/x-python",
   "name": "python",
   "nbconvert_exporter": "python",
   "pygments_lexer": "ipython3",
   "version": "3.11.3"
  }
 },
 "nbformat": 4,
 "nbformat_minor": 5
}
